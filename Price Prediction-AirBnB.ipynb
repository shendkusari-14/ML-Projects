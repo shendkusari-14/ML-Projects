{
 "cells": [
  {
   "cell_type": "code",
   "execution_count": 1,
   "id": "47c9cec2",
   "metadata": {},
   "outputs": [],
   "source": [
    "\n",
    "import numpy as np\n",
    "import pandas as pd\n",
    "import glob\n",
    "import os\n",
    "import matplotlib.pyplot as plt\n",
    "import seaborn as sns\n",
    "import datetime\n",
    "import pickle\n",
    "import typing\n",
    "import re\n",
    "from collections import Counter\n",
    "import sklearn\n"
   ]
  },
  {
   "cell_type": "code",
   "execution_count": 2,
   "id": "bd78dd33",
   "metadata": {},
   "outputs": [
    {
     "data": {
      "text/html": [
       "<div>\n",
       "<style scoped>\n",
       "    .dataframe tbody tr th:only-of-type {\n",
       "        vertical-align: middle;\n",
       "    }\n",
       "\n",
       "    .dataframe tbody tr th {\n",
       "        vertical-align: top;\n",
       "    }\n",
       "\n",
       "    .dataframe thead th {\n",
       "        text-align: right;\n",
       "    }\n",
       "</style>\n",
       "<table border=\"1\" class=\"dataframe\">\n",
       "  <thead>\n",
       "    <tr style=\"text-align: right;\">\n",
       "      <th></th>\n",
       "      <th>id</th>\n",
       "      <th>listing_url</th>\n",
       "      <th>scrape_id</th>\n",
       "      <th>last_scraped</th>\n",
       "      <th>source</th>\n",
       "      <th>name</th>\n",
       "      <th>description</th>\n",
       "      <th>neighborhood_overview</th>\n",
       "      <th>picture_url</th>\n",
       "      <th>host_id</th>\n",
       "      <th>...</th>\n",
       "      <th>review_scores_communication</th>\n",
       "      <th>review_scores_location</th>\n",
       "      <th>review_scores_value</th>\n",
       "      <th>license</th>\n",
       "      <th>instant_bookable</th>\n",
       "      <th>calculated_host_listings_count</th>\n",
       "      <th>calculated_host_listings_count_entire_homes</th>\n",
       "      <th>calculated_host_listings_count_private_rooms</th>\n",
       "      <th>calculated_host_listings_count_shared_rooms</th>\n",
       "      <th>reviews_per_month</th>\n",
       "    </tr>\n",
       "  </thead>\n",
       "  <tbody>\n",
       "    <tr>\n",
       "      <th>0</th>\n",
       "      <td>15883</td>\n",
       "      <td>https://www.airbnb.com/rooms/15883</td>\n",
       "      <td>20220911230927</td>\n",
       "      <td>2022-09-12</td>\n",
       "      <td>city scrape</td>\n",
       "      <td>b&amp;b near Old Danube river</td>\n",
       "      <td>Four rooms, each one differently and individua...</td>\n",
       "      <td>small and personal&lt;br /&gt;&lt;br /&gt;Four rooms at th...</td>\n",
       "      <td>https://a0.muscache.com/pictures/18eff738-a737...</td>\n",
       "      <td>62142</td>\n",
       "      <td>...</td>\n",
       "      <td>4.86</td>\n",
       "      <td>4.71</td>\n",
       "      <td>4.50</td>\n",
       "      <td>NaN</td>\n",
       "      <td>f</td>\n",
       "      <td>4</td>\n",
       "      <td>2</td>\n",
       "      <td>0</td>\n",
       "      <td>0</td>\n",
       "      <td>0.15</td>\n",
       "    </tr>\n",
       "    <tr>\n",
       "      <th>1</th>\n",
       "      <td>38768</td>\n",
       "      <td>https://www.airbnb.com/rooms/38768</td>\n",
       "      <td>20220911230927</td>\n",
       "      <td>2022-09-12</td>\n",
       "      <td>city scrape</td>\n",
       "      <td>central cityapartement- wifi- nice neighbourhood</td>\n",
       "      <td>39m² apartment with beautiful courtyard of the...</td>\n",
       "      <td>the Karmeliterviertel became very popular in t...</td>\n",
       "      <td>https://a0.muscache.com/pictures/ad4089a3-5355...</td>\n",
       "      <td>166283</td>\n",
       "      <td>...</td>\n",
       "      <td>4.93</td>\n",
       "      <td>4.75</td>\n",
       "      <td>4.69</td>\n",
       "      <td>NaN</td>\n",
       "      <td>t</td>\n",
       "      <td>3</td>\n",
       "      <td>3</td>\n",
       "      <td>0</td>\n",
       "      <td>0</td>\n",
       "      <td>2.50</td>\n",
       "    </tr>\n",
       "    <tr>\n",
       "      <th>2</th>\n",
       "      <td>40625</td>\n",
       "      <td>https://www.airbnb.com/rooms/40625</td>\n",
       "      <td>20220911230927</td>\n",
       "      <td>2022-09-12</td>\n",
       "      <td>city scrape</td>\n",
       "      <td>Near Palace Schönbrunn, Apt. 1</td>\n",
       "      <td>Welcome to my Apt. 1!&lt;br /&gt;&lt;br /&gt;This is a 2be...</td>\n",
       "      <td>The neighbourhood offers plenty of restaurants...</td>\n",
       "      <td>https://a0.muscache.com/pictures/11509144/d55c...</td>\n",
       "      <td>175131</td>\n",
       "      <td>...</td>\n",
       "      <td>4.93</td>\n",
       "      <td>4.59</td>\n",
       "      <td>4.70</td>\n",
       "      <td>NaN</td>\n",
       "      <td>t</td>\n",
       "      <td>15</td>\n",
       "      <td>14</td>\n",
       "      <td>1</td>\n",
       "      <td>0</td>\n",
       "      <td>1.23</td>\n",
       "    </tr>\n",
       "    <tr>\n",
       "      <th>3</th>\n",
       "      <td>392757</td>\n",
       "      <td>https://www.airbnb.com/rooms/392757</td>\n",
       "      <td>20220911230927</td>\n",
       "      <td>2022-09-12</td>\n",
       "      <td>city scrape</td>\n",
       "      <td>VCA3  Palais Brambilla - studio with city views</td>\n",
       "      <td>Palais Brambilla is an oasis located in the hi...</td>\n",
       "      <td>The neighborhood offers a wide range of cafés,...</td>\n",
       "      <td>https://a0.muscache.com/pictures/miso/Hosting-...</td>\n",
       "      <td>1833176</td>\n",
       "      <td>...</td>\n",
       "      <td>4.91</td>\n",
       "      <td>4.89</td>\n",
       "      <td>4.59</td>\n",
       "      <td>NaN</td>\n",
       "      <td>f</td>\n",
       "      <td>4</td>\n",
       "      <td>4</td>\n",
       "      <td>0</td>\n",
       "      <td>0</td>\n",
       "      <td>0.79</td>\n",
       "    </tr>\n",
       "    <tr>\n",
       "      <th>4</th>\n",
       "      <td>51287</td>\n",
       "      <td>https://www.airbnb.com/rooms/51287</td>\n",
       "      <td>20220911230927</td>\n",
       "      <td>2022-09-12</td>\n",
       "      <td>city scrape</td>\n",
       "      <td>little studio- next to citycenter- wifi- nice ...</td>\n",
       "      <td>small studio in new renovated old house and ve...</td>\n",
       "      <td>The neighbourhood has a lot of very nice littl...</td>\n",
       "      <td>https://a0.muscache.com/pictures/25163038/1c4e...</td>\n",
       "      <td>166283</td>\n",
       "      <td>...</td>\n",
       "      <td>4.95</td>\n",
       "      <td>4.86</td>\n",
       "      <td>4.58</td>\n",
       "      <td>NaN</td>\n",
       "      <td>f</td>\n",
       "      <td>3</td>\n",
       "      <td>3</td>\n",
       "      <td>0</td>\n",
       "      <td>0</td>\n",
       "      <td>2.45</td>\n",
       "    </tr>\n",
       "  </tbody>\n",
       "</table>\n",
       "<p>5 rows × 75 columns</p>\n",
       "</div>"
      ],
      "text/plain": [
       "       id                          listing_url       scrape_id last_scraped  \\\n",
       "0   15883   https://www.airbnb.com/rooms/15883  20220911230927   2022-09-12   \n",
       "1   38768   https://www.airbnb.com/rooms/38768  20220911230927   2022-09-12   \n",
       "2   40625   https://www.airbnb.com/rooms/40625  20220911230927   2022-09-12   \n",
       "3  392757  https://www.airbnb.com/rooms/392757  20220911230927   2022-09-12   \n",
       "4   51287   https://www.airbnb.com/rooms/51287  20220911230927   2022-09-12   \n",
       "\n",
       "        source                                               name  \\\n",
       "0  city scrape                          b&b near Old Danube river   \n",
       "1  city scrape   central cityapartement- wifi- nice neighbourhood   \n",
       "2  city scrape                     Near Palace Schönbrunn, Apt. 1   \n",
       "3  city scrape    VCA3  Palais Brambilla - studio with city views   \n",
       "4  city scrape  little studio- next to citycenter- wifi- nice ...   \n",
       "\n",
       "                                         description  \\\n",
       "0  Four rooms, each one differently and individua...   \n",
       "1  39m² apartment with beautiful courtyard of the...   \n",
       "2  Welcome to my Apt. 1!<br /><br />This is a 2be...   \n",
       "3  Palais Brambilla is an oasis located in the hi...   \n",
       "4  small studio in new renovated old house and ve...   \n",
       "\n",
       "                               neighborhood_overview  \\\n",
       "0  small and personal<br /><br />Four rooms at th...   \n",
       "1  the Karmeliterviertel became very popular in t...   \n",
       "2  The neighbourhood offers plenty of restaurants...   \n",
       "3  The neighborhood offers a wide range of cafés,...   \n",
       "4  The neighbourhood has a lot of very nice littl...   \n",
       "\n",
       "                                         picture_url  host_id  ...  \\\n",
       "0  https://a0.muscache.com/pictures/18eff738-a737...    62142  ...   \n",
       "1  https://a0.muscache.com/pictures/ad4089a3-5355...   166283  ...   \n",
       "2  https://a0.muscache.com/pictures/11509144/d55c...   175131  ...   \n",
       "3  https://a0.muscache.com/pictures/miso/Hosting-...  1833176  ...   \n",
       "4  https://a0.muscache.com/pictures/25163038/1c4e...   166283  ...   \n",
       "\n",
       "  review_scores_communication review_scores_location review_scores_value  \\\n",
       "0                        4.86                   4.71                4.50   \n",
       "1                        4.93                   4.75                4.69   \n",
       "2                        4.93                   4.59                4.70   \n",
       "3                        4.91                   4.89                4.59   \n",
       "4                        4.95                   4.86                4.58   \n",
       "\n",
       "  license instant_bookable calculated_host_listings_count  \\\n",
       "0     NaN                f                              4   \n",
       "1     NaN                t                              3   \n",
       "2     NaN                t                             15   \n",
       "3     NaN                f                              4   \n",
       "4     NaN                f                              3   \n",
       "\n",
       "  calculated_host_listings_count_entire_homes  \\\n",
       "0                                           2   \n",
       "1                                           3   \n",
       "2                                          14   \n",
       "3                                           4   \n",
       "4                                           3   \n",
       "\n",
       "  calculated_host_listings_count_private_rooms  \\\n",
       "0                                            0   \n",
       "1                                            0   \n",
       "2                                            1   \n",
       "3                                            0   \n",
       "4                                            0   \n",
       "\n",
       "  calculated_host_listings_count_shared_rooms reviews_per_month  \n",
       "0                                           0              0.15  \n",
       "1                                           0              2.50  \n",
       "2                                           0              1.23  \n",
       "3                                           0              0.79  \n",
       "4                                           0              2.45  \n",
       "\n",
       "[5 rows x 75 columns]"
      ]
     },
     "execution_count": 2,
     "metadata": {},
     "output_type": "execute_result"
    }
   ],
   "source": [
    "#Vienna\n",
    "\n",
    "vienna_listings = 'http://data.insideairbnb.com/austria/vienna/vienna/2022-09-11/data/listings.csv.gz'\n",
    "df_vienna = pd.read_csv(vienna_listings, compression='gzip')\n",
    "df_vienna.head(5)"
   ]
  },
  {
   "cell_type": "markdown",
   "id": "f744aa2b",
   "metadata": {},
   "source": [
    "Vienna chosen columns for predicting a price are:\n",
    "ID, neighbourhood_cleansed, amnenties, acommodates,bathroom_type,bedrooms, room_type, property_type,review_location,review_cleaninnes, communication,checkin\n"
   ]
  },
  {
   "cell_type": "code",
   "execution_count": 3,
   "id": "7fe6e192",
   "metadata": {},
   "outputs": [],
   "source": [
    "df_vienna_price = df_vienna[['neighbourhood_cleansed','room_type','accommodates',\n",
    "                            'bathrooms_text','bedrooms','amenities','review_scores_cleanliness'\n",
    "                             ,'review_scores_location','price']]"
   ]
  },
  {
   "cell_type": "code",
   "execution_count": 4,
   "id": "911f046f",
   "metadata": {},
   "outputs": [
    {
     "data": {
      "text/html": [
       "<div>\n",
       "<style scoped>\n",
       "    .dataframe tbody tr th:only-of-type {\n",
       "        vertical-align: middle;\n",
       "    }\n",
       "\n",
       "    .dataframe tbody tr th {\n",
       "        vertical-align: top;\n",
       "    }\n",
       "\n",
       "    .dataframe thead th {\n",
       "        text-align: right;\n",
       "    }\n",
       "</style>\n",
       "<table border=\"1\" class=\"dataframe\">\n",
       "  <thead>\n",
       "    <tr style=\"text-align: right;\">\n",
       "      <th></th>\n",
       "      <th>neighbourhood_cleansed</th>\n",
       "      <th>room_type</th>\n",
       "      <th>accommodates</th>\n",
       "      <th>bathrooms_text</th>\n",
       "      <th>bedrooms</th>\n",
       "      <th>amenities</th>\n",
       "      <th>review_scores_cleanliness</th>\n",
       "      <th>review_scores_location</th>\n",
       "      <th>price</th>\n",
       "    </tr>\n",
       "  </thead>\n",
       "  <tbody>\n",
       "    <tr>\n",
       "      <th>0</th>\n",
       "      <td>Donaustadt</td>\n",
       "      <td>Hotel room</td>\n",
       "      <td>3</td>\n",
       "      <td>1 private bath</td>\n",
       "      <td>1.0</td>\n",
       "      <td>[\"Essentials\", \"Heating\", \"High chair\", \"Hange...</td>\n",
       "      <td>4.93</td>\n",
       "      <td>4.71</td>\n",
       "      <td>$110.00</td>\n",
       "    </tr>\n",
       "    <tr>\n",
       "      <th>1</th>\n",
       "      <td>Leopoldstadt</td>\n",
       "      <td>Entire home/apt</td>\n",
       "      <td>5</td>\n",
       "      <td>1 bath</td>\n",
       "      <td>1.0</td>\n",
       "      <td>[\"Dishes and silverware\", \"Cooking basics\", \"S...</td>\n",
       "      <td>4.65</td>\n",
       "      <td>4.75</td>\n",
       "      <td>$69.00</td>\n",
       "    </tr>\n",
       "    <tr>\n",
       "      <th>2</th>\n",
       "      <td>Rudolfsheim-Fnfhaus</td>\n",
       "      <td>Entire home/apt</td>\n",
       "      <td>6</td>\n",
       "      <td>1 bath</td>\n",
       "      <td>2.0</td>\n",
       "      <td>[\"Babysitter recommendations\", \"Dishes and sil...</td>\n",
       "      <td>4.88</td>\n",
       "      <td>4.59</td>\n",
       "      <td>$145.00</td>\n",
       "    </tr>\n",
       "    <tr>\n",
       "      <th>3</th>\n",
       "      <td>Innere Stadt</td>\n",
       "      <td>Entire home/apt</td>\n",
       "      <td>2</td>\n",
       "      <td>1 bath</td>\n",
       "      <td>1.0</td>\n",
       "      <td>[\"Dishes and silverware\", \"Shampoo\", \"Long ter...</td>\n",
       "      <td>4.55</td>\n",
       "      <td>4.89</td>\n",
       "      <td>$100.00</td>\n",
       "    </tr>\n",
       "    <tr>\n",
       "      <th>4</th>\n",
       "      <td>Leopoldstadt</td>\n",
       "      <td>Entire home/apt</td>\n",
       "      <td>3</td>\n",
       "      <td>1 bath</td>\n",
       "      <td>NaN</td>\n",
       "      <td>[\"Dishes and silverware\", \"Cooking basics\", \"S...</td>\n",
       "      <td>4.51</td>\n",
       "      <td>4.86</td>\n",
       "      <td>$68.00</td>\n",
       "    </tr>\n",
       "    <tr>\n",
       "      <th>...</th>\n",
       "      <td>...</td>\n",
       "      <td>...</td>\n",
       "      <td>...</td>\n",
       "      <td>...</td>\n",
       "      <td>...</td>\n",
       "      <td>...</td>\n",
       "      <td>...</td>\n",
       "      <td>...</td>\n",
       "      <td>...</td>\n",
       "    </tr>\n",
       "    <tr>\n",
       "      <th>11792</th>\n",
       "      <td>Donaustadt</td>\n",
       "      <td>Entire home/apt</td>\n",
       "      <td>5</td>\n",
       "      <td>2 baths</td>\n",
       "      <td>2.0</td>\n",
       "      <td>[\"Private entrance\", \"Essentials\", \"Iron\", \"Ha...</td>\n",
       "      <td>NaN</td>\n",
       "      <td>NaN</td>\n",
       "      <td>$170.00</td>\n",
       "    </tr>\n",
       "    <tr>\n",
       "      <th>11793</th>\n",
       "      <td>Simmering</td>\n",
       "      <td>Entire home/apt</td>\n",
       "      <td>3</td>\n",
       "      <td>1 bath</td>\n",
       "      <td>1.0</td>\n",
       "      <td>[\"Dishes and silverware\", \"Paid parking lot of...</td>\n",
       "      <td>5.00</td>\n",
       "      <td>4.17</td>\n",
       "      <td>$150.00</td>\n",
       "    </tr>\n",
       "    <tr>\n",
       "      <th>11794</th>\n",
       "      <td>Simmering</td>\n",
       "      <td>Entire home/apt</td>\n",
       "      <td>8</td>\n",
       "      <td>1 bath</td>\n",
       "      <td>2.0</td>\n",
       "      <td>[\"Private entrance\", \"Washer\", \"Essentials\", \"...</td>\n",
       "      <td>3.00</td>\n",
       "      <td>5.00</td>\n",
       "      <td>$150.00</td>\n",
       "    </tr>\n",
       "    <tr>\n",
       "      <th>11795</th>\n",
       "      <td>Liesing</td>\n",
       "      <td>Entire home/apt</td>\n",
       "      <td>2</td>\n",
       "      <td>1 bath</td>\n",
       "      <td>1.0</td>\n",
       "      <td>[\"Dishes and silverware\", \"Cooking basics\", \"F...</td>\n",
       "      <td>5.00</td>\n",
       "      <td>5.00</td>\n",
       "      <td>$50.00</td>\n",
       "    </tr>\n",
       "    <tr>\n",
       "      <th>11796</th>\n",
       "      <td>Penzing</td>\n",
       "      <td>Shared room</td>\n",
       "      <td>9</td>\n",
       "      <td>3.5 shared baths</td>\n",
       "      <td>1.0</td>\n",
       "      <td>[\"Fire pit\", \"Wifi\", \"Kitchen\", \"BBQ grill\", \"...</td>\n",
       "      <td>4.44</td>\n",
       "      <td>4.67</td>\n",
       "      <td>$15.00</td>\n",
       "    </tr>\n",
       "  </tbody>\n",
       "</table>\n",
       "<p>11797 rows × 9 columns</p>\n",
       "</div>"
      ],
      "text/plain": [
       "      neighbourhood_cleansed        room_type  accommodates    bathrooms_text  \\\n",
       "0                 Donaustadt       Hotel room             3    1 private bath   \n",
       "1               Leopoldstadt  Entire home/apt             5            1 bath   \n",
       "2       Rudolfsheim-Fnfhaus  Entire home/apt             6            1 bath   \n",
       "3               Innere Stadt  Entire home/apt             2            1 bath   \n",
       "4               Leopoldstadt  Entire home/apt             3            1 bath   \n",
       "...                      ...              ...           ...               ...   \n",
       "11792             Donaustadt  Entire home/apt             5           2 baths   \n",
       "11793              Simmering  Entire home/apt             3            1 bath   \n",
       "11794              Simmering  Entire home/apt             8            1 bath   \n",
       "11795                Liesing  Entire home/apt             2            1 bath   \n",
       "11796                Penzing      Shared room             9  3.5 shared baths   \n",
       "\n",
       "       bedrooms                                          amenities  \\\n",
       "0           1.0  [\"Essentials\", \"Heating\", \"High chair\", \"Hange...   \n",
       "1           1.0  [\"Dishes and silverware\", \"Cooking basics\", \"S...   \n",
       "2           2.0  [\"Babysitter recommendations\", \"Dishes and sil...   \n",
       "3           1.0  [\"Dishes and silverware\", \"Shampoo\", \"Long ter...   \n",
       "4           NaN  [\"Dishes and silverware\", \"Cooking basics\", \"S...   \n",
       "...         ...                                                ...   \n",
       "11792       2.0  [\"Private entrance\", \"Essentials\", \"Iron\", \"Ha...   \n",
       "11793       1.0  [\"Dishes and silverware\", \"Paid parking lot of...   \n",
       "11794       2.0  [\"Private entrance\", \"Washer\", \"Essentials\", \"...   \n",
       "11795       1.0  [\"Dishes and silverware\", \"Cooking basics\", \"F...   \n",
       "11796       1.0  [\"Fire pit\", \"Wifi\", \"Kitchen\", \"BBQ grill\", \"...   \n",
       "\n",
       "       review_scores_cleanliness  review_scores_location    price  \n",
       "0                           4.93                    4.71  $110.00  \n",
       "1                           4.65                    4.75   $69.00  \n",
       "2                           4.88                    4.59  $145.00  \n",
       "3                           4.55                    4.89  $100.00  \n",
       "4                           4.51                    4.86   $68.00  \n",
       "...                          ...                     ...      ...  \n",
       "11792                        NaN                     NaN  $170.00  \n",
       "11793                       5.00                    4.17  $150.00  \n",
       "11794                       3.00                    5.00  $150.00  \n",
       "11795                       5.00                    5.00   $50.00  \n",
       "11796                       4.44                    4.67   $15.00  \n",
       "\n",
       "[11797 rows x 9 columns]"
      ]
     },
     "execution_count": 4,
     "metadata": {},
     "output_type": "execute_result"
    }
   ],
   "source": [
    "df_vienna_price"
   ]
  },
  {
   "cell_type": "code",
   "execution_count": 5,
   "id": "e01c5064",
   "metadata": {},
   "outputs": [],
   "source": [
    "import warnings\n",
    "warnings.filterwarnings('ignore')\n",
    "df_vienna_price.rename(columns = {'neighbourhood_cleansed':'neighbourhood','bathrooms_text':'bathroom',\n",
    "                                 'review_scores_cleanliness':'review_clean', \n",
    "                                 'review_scores_location' :'review_location' }, inplace = True)"
   ]
  },
  {
   "cell_type": "markdown",
   "id": "89177b6a",
   "metadata": {},
   "source": [
    "Data Types of columns before cleansing and transforming\n"
   ]
  },
  {
   "cell_type": "code",
   "execution_count": 6,
   "id": "98715910",
   "metadata": {},
   "outputs": [
    {
     "data": {
      "text/html": [
       "<div>\n",
       "<style scoped>\n",
       "    .dataframe tbody tr th:only-of-type {\n",
       "        vertical-align: middle;\n",
       "    }\n",
       "\n",
       "    .dataframe tbody tr th {\n",
       "        vertical-align: top;\n",
       "    }\n",
       "\n",
       "    .dataframe thead th {\n",
       "        text-align: right;\n",
       "    }\n",
       "</style>\n",
       "<table border=\"1\" class=\"dataframe\">\n",
       "  <thead>\n",
       "    <tr style=\"text-align: right;\">\n",
       "      <th></th>\n",
       "      <th>type</th>\n",
       "    </tr>\n",
       "  </thead>\n",
       "  <tbody>\n",
       "    <tr>\n",
       "      <th>neighbourhood</th>\n",
       "      <td>object</td>\n",
       "    </tr>\n",
       "    <tr>\n",
       "      <th>room_type</th>\n",
       "      <td>object</td>\n",
       "    </tr>\n",
       "    <tr>\n",
       "      <th>accommodates</th>\n",
       "      <td>int64</td>\n",
       "    </tr>\n",
       "    <tr>\n",
       "      <th>bathroom</th>\n",
       "      <td>object</td>\n",
       "    </tr>\n",
       "    <tr>\n",
       "      <th>bedrooms</th>\n",
       "      <td>float64</td>\n",
       "    </tr>\n",
       "    <tr>\n",
       "      <th>amenities</th>\n",
       "      <td>object</td>\n",
       "    </tr>\n",
       "    <tr>\n",
       "      <th>review_clean</th>\n",
       "      <td>float64</td>\n",
       "    </tr>\n",
       "    <tr>\n",
       "      <th>review_location</th>\n",
       "      <td>float64</td>\n",
       "    </tr>\n",
       "    <tr>\n",
       "      <th>price</th>\n",
       "      <td>object</td>\n",
       "    </tr>\n",
       "  </tbody>\n",
       "</table>\n",
       "</div>"
      ],
      "text/plain": [
       "                    type\n",
       "neighbourhood     object\n",
       "room_type         object\n",
       "accommodates       int64\n",
       "bathroom          object\n",
       "bedrooms         float64\n",
       "amenities         object\n",
       "review_clean     float64\n",
       "review_location  float64\n",
       "price             object"
      ]
     },
     "execution_count": 6,
     "metadata": {},
     "output_type": "execute_result"
    }
   ],
   "source": [
    "df_vienna_price_types = pd.DataFrame(df_vienna_price.dtypes, columns=[\"type\"])\n",
    "df_vienna_price_types"
   ]
  },
  {
   "cell_type": "code",
   "execution_count": 7,
   "id": "d1e509f5",
   "metadata": {},
   "outputs": [],
   "source": [
    "df_vienna_price.bathroom.fillna(0,inplace=True)\n",
    "\n",
    "\n",
    "\n",
    "\n"
   ]
  },
  {
   "cell_type": "markdown",
   "id": "68fb8629",
   "metadata": {},
   "source": [
    "Bathroom Types : private bath,shared baths,half-bath and containing numbers 1,1.5,2,2.5 .....\n",
    "                  \n",
    "                   \n",
    "Missing values are deleted because we had little missing values"
   ]
  },
  {
   "cell_type": "markdown",
   "id": "32a32590",
   "metadata": {},
   "source": [
    "## Data Cleansing\n",
    "\n",
    "Price column - Striping the $ sign and , from the values and then transforming into a float data type\n",
    "\n",
    "Neighbourhood column - Replace special german alphabet characters with latin letters and then transforming \n",
    "categorical data with one hot encoding\n",
    "\n",
    "Bathroom - Spliting the number value from string, creating a new column called bathroom_number containing that value\n",
    "then transforming  categorical data with one hot encoding\n",
    "\n",
    "Room Type - Transforming categorical data with one hot encoding into 4 different columns\n",
    "\n",
    "Amenities - Extracting the String values from the column for basic amenities and transforming it with one hot encoding\n"
   ]
  },
  {
   "cell_type": "code",
   "execution_count": 8,
   "id": "4bedc644",
   "metadata": {},
   "outputs": [],
   "source": [
    "df_vienna_price.price = df_vienna_price.price.str.replace(\"$\",\"\")\n",
    "\n",
    "df_vienna_price.price = df_vienna_price.price.str.replace(\",\",\"\")\n",
    "df_vienna_price.price = df_vienna_price.price.str.strip(\" \")\n",
    "\n",
    "\n"
   ]
  },
  {
   "cell_type": "code",
   "execution_count": 9,
   "id": "d1ca34b8",
   "metadata": {},
   "outputs": [],
   "source": [
    "df_vienna_price.price = df_vienna_price.price.astype(np.float64)\n",
    "\n"
   ]
  },
  {
   "cell_type": "code",
   "execution_count": 10,
   "id": "b48057a3",
   "metadata": {},
   "outputs": [],
   "source": [
    "df_vienna_price.neighbourhood.unique()\n",
    "df_vienna_price.neighbourhood = df_vienna_price.neighbourhood.str.replace(\"Rudolfsheim-F\\x9fnfhaus\",\"Rudolfsheim-Fufnfhaus\")\n",
    "df_vienna_price.neighbourhood = df_vienna_price.neighbourhood.str.replace(\"Landstra§e\",\"Landstrase\")\n",
    "df_vienna_price.neighbourhood = df_vienna_price.neighbourhood.str.replace(\"W\\x8ahring\",\"Wahring\")\n",
    "df_vienna_price.neighbourhood = df_vienna_price.neighbourhood.str.replace(\"D\\x9abling\",\"Dobling\")\n",
    "\n",
    "\n",
    "\n",
    "\n"
   ]
  },
  {
   "cell_type": "code",
   "execution_count": 11,
   "id": "1beede3a",
   "metadata": {},
   "outputs": [
    {
     "data": {
      "text/plain": [
       "<AxesSubplot:xlabel='neighbourhood', ylabel='price'>"
      ]
     },
     "execution_count": 11,
     "metadata": {},
     "output_type": "execute_result"
    },
    {
     "data": {
      "image/png": "[encoded data removed]",
      "text/plain": [
       "<Figure size 432x288 with 1 Axes>"
      ]
     },
     "metadata": {
      "needs_background": "light"
     },
     "output_type": "display_data"
    }
   ],
   "source": [
    "df_vienna_price.plot.scatter(x = 'neighbourhood', y = 'price',rot = 60)"
   ]
  },
  {
   "cell_type": "code",
   "execution_count": 12,
   "id": "1f60e314",
   "metadata": {},
   "outputs": [
    {
     "data": {
      "text/plain": [
       "array(['Donaustadt', 'Leopoldstadt', 'Rudolfsheim-Fufnfhaus',\n",
       "       'Innere Stadt', 'Ottakring', 'Favoriten', 'Brigittenau',\n",
       "       'Mariahilf', 'Neubau', 'Margareten', 'Hernals', 'Landstrase',\n",
       "       'Josefstadt', 'Alsergrund', 'Simmering', 'Wieden', 'Penzing',\n",
       "       'Floridsdorf', 'Wahring', 'Dobling', 'Meidling', 'Hietzing',\n",
       "       'Liesing'], dtype=object)"
      ]
     },
     "execution_count": 12,
     "metadata": {},
     "output_type": "execute_result"
    }
   ],
   "source": [
    "df_vienna_price.neighbourhood.unique()"
   ]
  },
  {
   "cell_type": "code",
   "execution_count": 13,
   "id": "662405e2",
   "metadata": {},
   "outputs": [],
   "source": [
    "#df_vienna_price[df_vienna_price['amenities'].str.contains(\"Microwave\")]\n",
    "\n",
    "wifi = df_vienna_price[(df_vienna_price.amenities.str.contains('(?i)wifi'))]\n",
    "kitchen =  df_vienna_price[(df_vienna_price.amenities.str.contains('(?i)cooking'))]\n"
   ]
  },
  {
   "cell_type": "code",
   "execution_count": 14,
   "id": "289d7fd2",
   "metadata": {},
   "outputs": [
    {
     "data": {
      "text/plain": [
       "(2024, 17.156904297702805)"
      ]
     },
     "execution_count": 14,
     "metadata": {},
     "output_type": "execute_result"
    }
   ],
   "source": [
    "review_miss_sum = df_vienna_price['review_location'].isnull().sum()\n",
    "perc = review_miss_sum / df_vienna_price.shape[0] * 100\n",
    "review_miss_sum, perc"
   ]
  },
  {
   "cell_type": "markdown",
   "id": "dc6a907f",
   "metadata": {},
   "source": [
    "** Checking for missing data\n",
    "\n",
    "Approximately 17% of review values (review_clean,review_checkin,review_location) are missing...\n"
   ]
  },
  {
   "cell_type": "code",
   "execution_count": 15,
   "id": "3671c35a",
   "metadata": {},
   "outputs": [],
   "source": [
    "from sklearn.preprocessing import OneHotEncoder\n",
    "df_vienna_price = pd.get_dummies(df_vienna_price, columns = ['neighbourhood'])\n",
    "\n"
   ]
  },
  {
   "cell_type": "code",
   "execution_count": 16,
   "id": "ce0f7de9",
   "metadata": {},
   "outputs": [],
   "source": [
    "df_vienna_price.bathroom.unique()\n",
    "#df_vienna_price.bathroom.isnummeric()\n",
    "#df_vienna_price['Bathroom_NumberFloat'] = df_vienna_price['bathroom'].astype('str').str.extractall(r\"(\\d+\\.\\d+)\").unstack().fillna('').sum(axis=1).astype(float)\n",
    "#df_vienna_price['Bathroom_Number'] = df_vienna_price['bathroom'].astype('str').str.extractall('\\d+').unstack().fillna('').sum(axis=1).astype(float)\n",
    "\n",
    "\n",
    "df_vienna_price['bathroom_number'] = df_vienna_price['bathroom'].str.extract('([-+]?\\d*\\.?\\d+)').astype(np.float64)\n",
    "df_vienna_price['shared_bathroom'] = df_vienna_price['bathroom'].str.contains('shared')\n",
    "df_vienna_price['private_bathroom'] = df_vienna_price['bathroom'].str.contains('private')\n",
    "df_vienna_price['bath_bathroom'] = df_vienna_price['bathroom'].str.contains('baths')\n",
    "\n",
    "#df_vienna_price = pd.get_dummies(df_vienna_price, columns = ['shared_bathroom','private_bathroom','bath_bathroom'])\n",
    "\n",
    "\n",
    "#1.5,2.5,4.5,3.5,7.5,\n",
    "\n",
    "#df_vienna_price.drop(['shared_bathroom_False','private_bathroom_False','bath_bathroom_False'],inplace=True, axis=1)\n",
    "\n",
    "df_vienna_price = pd.get_dummies(df_vienna_price, columns = ['shared_bathroom','private_bathroom','bath_bathroom'])\n",
    "\n",
    "\n"
   ]
  },
  {
   "cell_type": "code",
   "execution_count": 17,
   "id": "5b4793a6",
   "metadata": {},
   "outputs": [],
   "source": [
    "\n",
    "df_vienna_price.columns\n",
    "df_vienna_price.drop(['shared_bathroom_False','private_bathroom_False','bath_bathroom_False'],inplace=True, axis=1)\n",
    "\n"
   ]
  },
  {
   "cell_type": "code",
   "execution_count": 18,
   "id": "afaea2d7",
   "metadata": {},
   "outputs": [],
   "source": [
    "df_vienna_price = df_vienna_price.rename(columns={\"shared_bathroom_True\": \"shared_bathroom\", \"private_bathroom_True\": \"private_bathroom\", \"bath_bathroom_True\": \"bath_bathroom\"})"
   ]
  },
  {
   "cell_type": "code",
   "execution_count": 19,
   "id": "c0ed2cd4",
   "metadata": {},
   "outputs": [],
   "source": [
    "df_vienna_price = pd.get_dummies(df_vienna_price, columns = ['room_type'])\n",
    "\n"
   ]
  },
  {
   "cell_type": "code",
   "execution_count": 20,
   "id": "3852bc50",
   "metadata": {},
   "outputs": [],
   "source": [
    "df_vienna_price = df_vienna_price.rename(columns={\"room_type_Entire home/apt\": \"Entire_home/apt\", \"room_type_Hotel room\": \"Hotel_room\", \"room_type_Private room\": \"Private_room\",\"room_type_Shared room\": \"Shared_room\"})"
   ]
  },
  {
   "cell_type": "code",
   "execution_count": 21,
   "id": "038713d7",
   "metadata": {},
   "outputs": [],
   "source": [
    "df_vienna_price.drop(['bathroom'],inplace = True, axis=1)"
   ]
  },
  {
   "cell_type": "code",
   "execution_count": 22,
   "id": "c542366e",
   "metadata": {},
   "outputs": [
    {
     "data": {
      "text/plain": [
       "7415"
      ]
     },
     "execution_count": 22,
     "metadata": {},
     "output_type": "execute_result"
    }
   ],
   "source": [
    "df_vienna_price['amenities_ab'] = df_vienna_price['amenities'].str.lower()\n",
    "\n",
    "df_vienna_price['amenities_ab'].str.count('refrigerator').sum()\n",
    "#dishesandsilverware = 7527, wifi 11698,, parking = 6367, kitchen = 11128,heating = 10968 \n",
    "#wifi, hot water, hair dryer, kitchen, refrigerator, heating , iron = 8207, hair dryer"
   ]
  },
  {
   "cell_type": "code",
   "execution_count": 23,
   "id": "178a96d7",
   "metadata": {},
   "outputs": [],
   "source": [
    "df_vienna_price['parking_amn'] = df_vienna_price['amenities_ab'].str.contains('parking')\n",
    "df_vienna_price['wifi_amn'] = df_vienna_price['amenities_ab'].str.contains('wifi')\n",
    "df_vienna_price['kitchen_amn'] = df_vienna_price['amenities_ab'].str.contains('kitchen')\n",
    "df_vienna_price['iron_amn'] = df_vienna_price['amenities_ab'].str.contains('iron')\n",
    "df_vienna_price['heating_amn'] = df_vienna_price['amenities_ab'].str.contains('heating')\n",
    "df_vienna_price['dryer_amn'] = df_vienna_price['amenities_ab'].str.contains('hair dryer')\n",
    "\n",
    "\n",
    "\n",
    "\n",
    "\n",
    "\n",
    "\n",
    "\n",
    "\n"
   ]
  },
  {
   "cell_type": "code",
   "execution_count": 24,
   "id": "f2fd0da7",
   "metadata": {},
   "outputs": [],
   "source": [
    "df_vienna_price['parking_amn'] = df_vienna_price['parking_amn'][df_vienna_price['parking_amn'] == True]"
   ]
  },
  {
   "cell_type": "code",
   "execution_count": 25,
   "id": "ea51412b",
   "metadata": {},
   "outputs": [],
   "source": [
    "df_vienna_price = pd.get_dummies(df_vienna_price, columns = ['parking_amn'])\n",
    "\n"
   ]
  },
  {
   "cell_type": "code",
   "execution_count": 26,
   "id": "88408591",
   "metadata": {},
   "outputs": [],
   "source": [
    "df_vienna_price['wifi_amn'] = df_vienna_price['wifi_amn'][df_vienna_price['wifi_amn'] == True]\n",
    "df_vienna_price['kitchen_amn'] = df_vienna_price['kitchen_amn'][df_vienna_price['kitchen_amn'] == True]\n",
    "df_vienna_price['iron_amn'] = df_vienna_price['iron_amn'][df_vienna_price['iron_amn'] == True]\n",
    "df_vienna_price['heating_amn'] = df_vienna_price['heating_amn'][df_vienna_price['heating_amn'] == True]\n",
    "df_vienna_price['dryer_amn'] = df_vienna_price['dryer_amn'][df_vienna_price['dryer_amn'] == True]\n",
    "\n",
    "\n"
   ]
  },
  {
   "cell_type": "code",
   "execution_count": 27,
   "id": "a482ee9e",
   "metadata": {},
   "outputs": [],
   "source": [
    "df_vienna_price = pd.get_dummies(df_vienna_price, columns = ['wifi_amn','kitchen_amn','iron_amn','heating_amn','dryer_amn'])\n",
    "\n"
   ]
  },
  {
   "cell_type": "code",
   "execution_count": 28,
   "id": "c072ef87",
   "metadata": {},
   "outputs": [],
   "source": [
    "df_vienna_price= df_vienna_price.rename(columns={\"parking_amn_True\": \"Parking\", \"wifi_amn_True\": \"Wifi\", \"kitchen_amn_True\": \"Kitchen\",\"iron_amn_True\": \"Iron\",\n",
    "                               \"heating_amn_True\":\"Heating\", \"dryer_amn_True\":\"Dryer\"})"
   ]
  },
  {
   "cell_type": "code",
   "execution_count": 29,
   "id": "e1d58422",
   "metadata": {},
   "outputs": [],
   "source": [
    "df_vienna_price.drop(['amenities','amenities_ab'],inplace=True, axis=1)\n",
    "\n"
   ]
  },
  {
   "cell_type": "markdown",
   "id": "0d3457a0",
   "metadata": {},
   "source": [
    "## Checking For Missing Values\n",
    "\n",
    "Since we didn't have information about why there are missing values, we have decided to fill them with global median value for all missing values\n",
    "\n",
    "Also for price,bedrooms and accommodates with value 0, we have decided to drop those values"
   ]
  },
  {
   "cell_type": "code",
   "execution_count": 30,
   "id": "7df62dc1",
   "metadata": {},
   "outputs": [],
   "source": [
    "average_bedrooms = df_vienna_price['bedrooms'].median()\n",
    "df_vienna_price['bedrooms'] = df_vienna_price['bedrooms'].fillna(value = average_bedrooms)"
   ]
  },
  {
   "cell_type": "markdown",
   "id": "7cfa8e54",
   "metadata": {},
   "source": [
    "Since we did not have value 0 for bedrooms I have decided to fill missing values with 1 which is the median of the column 'bedrooms'"
   ]
  },
  {
   "cell_type": "code",
   "execution_count": 31,
   "id": "3f5e3959",
   "metadata": {},
   "outputs": [],
   "source": [
    "df_vienna_price['bedrooms'] = df_vienna_price['bedrooms'].astype(int)"
   ]
  },
  {
   "cell_type": "code",
   "execution_count": 32,
   "id": "d0d91eca",
   "metadata": {},
   "outputs": [
    {
     "data": {
      "text/plain": [
       "<AxesSubplot:xlabel='price', ylabel='bedrooms'>"
      ]
     },
     "execution_count": 32,
     "metadata": {},
     "output_type": "execute_result"
    },
    {
     "data": {
      "image/png": "[encoded data removed]",
      "text/plain": [
       "<Figure size 432x288 with 1 Axes>"
      ]
     },
     "metadata": {
      "needs_background": "light"
     },
     "output_type": "display_data"
    }
   ],
   "source": [
    "df_vienna_price.plot.scatter(x = 'price', y = 'bedrooms')"
   ]
  },
  {
   "cell_type": "code",
   "execution_count": 33,
   "id": "6b4f00e4",
   "metadata": {},
   "outputs": [],
   "source": [
    "df_vienna_price = df_vienna_price[df_vienna_price['accommodates'] != 0]"
   ]
  },
  {
   "cell_type": "code",
   "execution_count": 34,
   "id": "d30bc8ac",
   "metadata": {},
   "outputs": [],
   "source": [
    "df_vienna_price = df_vienna_price[df_vienna_price['price'] != 0]"
   ]
  },
  {
   "cell_type": "markdown",
   "id": "0d1827dd",
   "metadata": {},
   "source": [
    "I dropped rows where we had 0 accomodates and price because it does not make sense and we cannot put a value,also we had just 2 columns which had these values"
   ]
  },
  {
   "cell_type": "code",
   "execution_count": 35,
   "id": "3f6cd340",
   "metadata": {},
   "outputs": [
    {
     "data": {
      "text/plain": [
       "58"
      ]
     },
     "execution_count": 35,
     "metadata": {},
     "output_type": "execute_result"
    }
   ],
   "source": [
    "df_vienna_price.bathroom_number.isnull().sum()"
   ]
  },
  {
   "cell_type": "code",
   "execution_count": 36,
   "id": "9a000d17",
   "metadata": {},
   "outputs": [],
   "source": [
    "#average_bathroom = df_vienna_price['bathroom_number'].median()\n",
    "#df_vienna_price['bathroom_number'] = df_vienna_price['bathroom_number'].fillna(value = average_bathroom)\n",
    "\n",
    "\n",
    "df_vienna_price['bathroom_number'] = df_vienna_price['bathroom_number'].interpolate(method ='linear', limit_direction ='forward') "
   ]
  },
  {
   "cell_type": "code",
   "execution_count": 37,
   "id": "02fb34cf",
   "metadata": {},
   "outputs": [
    {
     "data": {
      "text/plain": [
       "<AxesSubplot:>"
      ]
     },
     "execution_count": 37,
     "metadata": {},
     "output_type": "execute_result"
    },
    {
     "data": {
      "image/png": "[encoded data removed]",
      "text/plain": [
       "<Figure size 432x288 with 1 Axes>"
      ]
     },
     "metadata": {
      "needs_background": "light"
     },
     "output_type": "display_data"
    }
   ],
   "source": [
    "df_vienna_price['bathroom_number'].plot()"
   ]
  },
  {
   "cell_type": "code",
   "execution_count": 38,
   "id": "68168135",
   "metadata": {},
   "outputs": [
    {
     "data": {
      "text/plain": [
       "<AxesSubplot:xlabel='price', ylabel='accommodates'>"
      ]
     },
     "execution_count": 38,
     "metadata": {},
     "output_type": "execute_result"
    },
    {
     "data": {
      "image/png": "[encoded data removed]",
      "text/plain": [
       "<Figure size 432x288 with 1 Axes>"
      ]
     },
     "metadata": {
      "needs_background": "light"
     },
     "output_type": "display_data"
    }
   ],
   "source": [
    "df_vienna_price.plot.scatter(x = 'price', y = 'accommodates')"
   ]
  },
  {
   "cell_type": "code",
   "execution_count": 39,
   "id": "a758c61a",
   "metadata": {},
   "outputs": [],
   "source": [
    "average_reviewc = df_vienna_price['review_clean'].median()\n",
    "average_reviewl = df_vienna_price['review_location'].median()\n",
    "\n",
    "\n",
    "\n",
    "\n",
    "\n"
   ]
  },
  {
   "cell_type": "code",
   "execution_count": 40,
   "id": "dc7e8e28",
   "metadata": {},
   "outputs": [],
   "source": [
    "df_vienna_price['review_clean'] = df_vienna_price['review_clean'].fillna(value = average_reviewc)\n",
    "df_vienna_price['review_location'] = df_vienna_price['review_location'].fillna(value = average_reviewl)\n",
    "\n",
    "\n",
    "\n",
    "\n"
   ]
  },
  {
   "cell_type": "code",
   "execution_count": 41,
   "id": "c9934572",
   "metadata": {},
   "outputs": [
    {
     "data": {
      "text/plain": [
       "accommodates                           0\n",
       "bedrooms                               0\n",
       "review_clean                           0\n",
       "review_location                        0\n",
       "price                                  0\n",
       "neighbourhood_Alsergrund               0\n",
       "neighbourhood_Brigittenau              0\n",
       "neighbourhood_Dobling                  0\n",
       "neighbourhood_Donaustadt               0\n",
       "neighbourhood_Favoriten                0\n",
       "neighbourhood_Floridsdorf              0\n",
       "neighbourhood_Hernals                  0\n",
       "neighbourhood_Hietzing                 0\n",
       "neighbourhood_Innere Stadt             0\n",
       "neighbourhood_Josefstadt               0\n",
       "neighbourhood_Landstrase               0\n",
       "neighbourhood_Leopoldstadt             0\n",
       "neighbourhood_Liesing                  0\n",
       "neighbourhood_Margareten               0\n",
       "neighbourhood_Mariahilf                0\n",
       "neighbourhood_Meidling                 0\n",
       "neighbourhood_Neubau                   0\n",
       "neighbourhood_Ottakring                0\n",
       "neighbourhood_Penzing                  0\n",
       "neighbourhood_Rudolfsheim-Fufnfhaus    0\n",
       "neighbourhood_Simmering                0\n",
       "neighbourhood_Wahring                  0\n",
       "neighbourhood_Wieden                   0\n",
       "bathroom_number                        0\n",
       "shared_bathroom                        0\n",
       "private_bathroom                       0\n",
       "bath_bathroom                          0\n",
       "Entire_home/apt                        0\n",
       "Hotel_room                             0\n",
       "Private_room                           0\n",
       "Shared_room                            0\n",
       "Parking                                0\n",
       "Wifi                                   0\n",
       "Kitchen                                0\n",
       "Iron                                   0\n",
       "Heating                                0\n",
       "Dryer                                  0\n",
       "dtype: int64"
      ]
     },
     "execution_count": 41,
     "metadata": {},
     "output_type": "execute_result"
    }
   ],
   "source": [
    "df_vienna_price.isnull().sum()\n",
    "\n",
    "#Checking for missing values"
   ]
  },
  {
   "cell_type": "code",
   "execution_count": 42,
   "id": "1f8f939c",
   "metadata": {},
   "outputs": [
    {
     "data": {
      "text/plain": [
       "<AxesSubplot:xlabel='price', ylabel='review_clean'>"
      ]
     },
     "execution_count": 42,
     "metadata": {},
     "output_type": "execute_result"
    },
    {
     "data": {
      "image/png": "[encoded data removed]",
      "text/plain": [
       "<Figure size 432x288 with 1 Axes>"
      ]
     },
     "metadata": {
      "needs_background": "light"
     },
     "output_type": "display_data"
    }
   ],
   "source": [
    "df_vienna_price.plot.scatter(x='price', y = 'review_clean')"
   ]
  },
  {
   "cell_type": "markdown",
   "id": "24189b6d",
   "metadata": {},
   "source": [
    "## Checking for outliers\n",
    "\n",
    "We have decided to replace outliers with random values that are below the range of the outliers\n",
    "To understand outliers better, we have visualise them with outliers and after removing them\n"
   ]
  },
  {
   "cell_type": "code",
   "execution_count": 43,
   "id": "b9296494",
   "metadata": {},
   "outputs": [],
   "source": [
    "def price_outliers(noisy_data):\n",
    " \n",
    "\n",
    "    cleaned_data = noisy_data.copy()\n",
    "   \n",
    "    sortedPrice = noisy_data.sort_values(['price'])\n",
    "    sortedPrice = sortedPrice.loc[noisy_data['price']<=1750]\n",
    " \n",
    "    \n",
    "    \n",
    "    cleaned_data.loc[noisy_data['price']>1750 ,'price'] = noisy_data.loc[noisy_data['price']>1750,'price'].apply(lambda x: np.random.choice(sortedPrice['price'].values, 1)[0])\n",
    "    \n",
    "    return cleaned_data"
   ]
  },
  {
   "cell_type": "code",
   "execution_count": 44,
   "id": "664987b9",
   "metadata": {},
   "outputs": [],
   "source": [
    "df_vienna_price = price_outliers(df_vienna_price)"
   ]
  },
  {
   "cell_type": "code",
   "execution_count": 45,
   "id": "b85cec02",
   "metadata": {},
   "outputs": [
    {
     "data": {
      "text/plain": [
       "<AxesSubplot:xlabel='price', ylabel='review_clean'>"
      ]
     },
     "execution_count": 45,
     "metadata": {},
     "output_type": "execute_result"
    },
    {
     "data": {
      "image/png": "[encoded data removed]",
      "text/plain": [
       "<Figure size 432x288 with 1 Axes>"
      ]
     },
     "metadata": {
      "needs_background": "light"
     },
     "output_type": "display_data"
    }
   ],
   "source": [
    "df_vienna_price.plot.scatter(x ='price', y='review_clean' )"
   ]
  },
  {
   "cell_type": "code",
   "execution_count": 46,
   "id": "533774fe",
   "metadata": {},
   "outputs": [],
   "source": [
    "def review_clean_outliers(noisy_data):\n",
    " \n",
    "\n",
    "    cleaned_data = noisy_data.copy()\n",
    "   \n",
    "    sortedPrice = noisy_data.sort_values(['review_clean'])\n",
    "    sortedPrice = sortedPrice.loc[noisy_data['review_clean']>=2]\n",
    " \n",
    "    \n",
    "    \n",
    "    cleaned_data.loc[noisy_data['review_clean']<2 ,'review_clean'] = noisy_data.loc[noisy_data['review_clean']<2,'price'].apply(lambda x: np.random.choice(sortedPrice['review_clean'].values, 1)[0])\n",
    "    \n",
    "    return cleaned_data"
   ]
  },
  {
   "cell_type": "code",
   "execution_count": 47,
   "id": "861f8597",
   "metadata": {},
   "outputs": [],
   "source": [
    "df_vienna_price = review_clean_outliers(df_vienna_price)"
   ]
  },
  {
   "cell_type": "code",
   "execution_count": 48,
   "id": "85ebe4b0",
   "metadata": {},
   "outputs": [
    {
     "data": {
      "text/html": [
       "<div>\n",
       "<style scoped>\n",
       "    .dataframe tbody tr th:only-of-type {\n",
       "        vertical-align: middle;\n",
       "    }\n",
       "\n",
       "    .dataframe tbody tr th {\n",
       "        vertical-align: top;\n",
       "    }\n",
       "\n",
       "    .dataframe thead th {\n",
       "        text-align: right;\n",
       "    }\n",
       "</style>\n",
       "<table border=\"1\" class=\"dataframe\">\n",
       "  <thead>\n",
       "    <tr style=\"text-align: right;\">\n",
       "      <th></th>\n",
       "      <th>accommodates</th>\n",
       "      <th>bedrooms</th>\n",
       "      <th>review_clean</th>\n",
       "      <th>review_location</th>\n",
       "      <th>price</th>\n",
       "      <th>neighbourhood_Alsergrund</th>\n",
       "      <th>neighbourhood_Brigittenau</th>\n",
       "      <th>neighbourhood_Dobling</th>\n",
       "      <th>neighbourhood_Donaustadt</th>\n",
       "      <th>neighbourhood_Favoriten</th>\n",
       "      <th>...</th>\n",
       "      <th>Entire_home/apt</th>\n",
       "      <th>Hotel_room</th>\n",
       "      <th>Private_room</th>\n",
       "      <th>Shared_room</th>\n",
       "      <th>Parking</th>\n",
       "      <th>Wifi</th>\n",
       "      <th>Kitchen</th>\n",
       "      <th>Iron</th>\n",
       "      <th>Heating</th>\n",
       "      <th>Dryer</th>\n",
       "    </tr>\n",
       "  </thead>\n",
       "  <tbody>\n",
       "    <tr>\n",
       "      <th>0</th>\n",
       "      <td>3</td>\n",
       "      <td>1</td>\n",
       "      <td>4.93</td>\n",
       "      <td>4.71</td>\n",
       "      <td>110.0</td>\n",
       "      <td>0</td>\n",
       "      <td>0</td>\n",
       "      <td>0</td>\n",
       "      <td>1</td>\n",
       "      <td>0</td>\n",
       "      <td>...</td>\n",
       "      <td>0</td>\n",
       "      <td>1</td>\n",
       "      <td>0</td>\n",
       "      <td>0</td>\n",
       "      <td>1</td>\n",
       "      <td>1</td>\n",
       "      <td>0</td>\n",
       "      <td>0</td>\n",
       "      <td>1</td>\n",
       "      <td>1</td>\n",
       "    </tr>\n",
       "    <tr>\n",
       "      <th>1</th>\n",
       "      <td>5</td>\n",
       "      <td>1</td>\n",
       "      <td>4.65</td>\n",
       "      <td>4.75</td>\n",
       "      <td>69.0</td>\n",
       "      <td>0</td>\n",
       "      <td>0</td>\n",
       "      <td>0</td>\n",
       "      <td>0</td>\n",
       "      <td>0</td>\n",
       "      <td>...</td>\n",
       "      <td>1</td>\n",
       "      <td>0</td>\n",
       "      <td>0</td>\n",
       "      <td>0</td>\n",
       "      <td>0</td>\n",
       "      <td>1</td>\n",
       "      <td>1</td>\n",
       "      <td>1</td>\n",
       "      <td>1</td>\n",
       "      <td>1</td>\n",
       "    </tr>\n",
       "    <tr>\n",
       "      <th>2</th>\n",
       "      <td>6</td>\n",
       "      <td>2</td>\n",
       "      <td>4.88</td>\n",
       "      <td>4.59</td>\n",
       "      <td>145.0</td>\n",
       "      <td>0</td>\n",
       "      <td>0</td>\n",
       "      <td>0</td>\n",
       "      <td>0</td>\n",
       "      <td>0</td>\n",
       "      <td>...</td>\n",
       "      <td>1</td>\n",
       "      <td>0</td>\n",
       "      <td>0</td>\n",
       "      <td>0</td>\n",
       "      <td>1</td>\n",
       "      <td>1</td>\n",
       "      <td>1</td>\n",
       "      <td>1</td>\n",
       "      <td>1</td>\n",
       "      <td>1</td>\n",
       "    </tr>\n",
       "    <tr>\n",
       "      <th>3</th>\n",
       "      <td>2</td>\n",
       "      <td>1</td>\n",
       "      <td>4.55</td>\n",
       "      <td>4.89</td>\n",
       "      <td>100.0</td>\n",
       "      <td>0</td>\n",
       "      <td>0</td>\n",
       "      <td>0</td>\n",
       "      <td>0</td>\n",
       "      <td>0</td>\n",
       "      <td>...</td>\n",
       "      <td>1</td>\n",
       "      <td>0</td>\n",
       "      <td>0</td>\n",
       "      <td>0</td>\n",
       "      <td>1</td>\n",
       "      <td>1</td>\n",
       "      <td>1</td>\n",
       "      <td>1</td>\n",
       "      <td>1</td>\n",
       "      <td>1</td>\n",
       "    </tr>\n",
       "    <tr>\n",
       "      <th>4</th>\n",
       "      <td>3</td>\n",
       "      <td>1</td>\n",
       "      <td>4.51</td>\n",
       "      <td>4.86</td>\n",
       "      <td>68.0</td>\n",
       "      <td>0</td>\n",
       "      <td>0</td>\n",
       "      <td>0</td>\n",
       "      <td>0</td>\n",
       "      <td>0</td>\n",
       "      <td>...</td>\n",
       "      <td>1</td>\n",
       "      <td>0</td>\n",
       "      <td>0</td>\n",
       "      <td>0</td>\n",
       "      <td>0</td>\n",
       "      <td>1</td>\n",
       "      <td>1</td>\n",
       "      <td>1</td>\n",
       "      <td>1</td>\n",
       "      <td>1</td>\n",
       "    </tr>\n",
       "    <tr>\n",
       "      <th>...</th>\n",
       "      <td>...</td>\n",
       "      <td>...</td>\n",
       "      <td>...</td>\n",
       "      <td>...</td>\n",
       "      <td>...</td>\n",
       "      <td>...</td>\n",
       "      <td>...</td>\n",
       "      <td>...</td>\n",
       "      <td>...</td>\n",
       "      <td>...</td>\n",
       "      <td>...</td>\n",
       "      <td>...</td>\n",
       "      <td>...</td>\n",
       "      <td>...</td>\n",
       "      <td>...</td>\n",
       "      <td>...</td>\n",
       "      <td>...</td>\n",
       "      <td>...</td>\n",
       "      <td>...</td>\n",
       "      <td>...</td>\n",
       "      <td>...</td>\n",
       "    </tr>\n",
       "    <tr>\n",
       "      <th>11792</th>\n",
       "      <td>5</td>\n",
       "      <td>2</td>\n",
       "      <td>4.83</td>\n",
       "      <td>4.81</td>\n",
       "      <td>170.0</td>\n",
       "      <td>0</td>\n",
       "      <td>0</td>\n",
       "      <td>0</td>\n",
       "      <td>1</td>\n",
       "      <td>0</td>\n",
       "      <td>...</td>\n",
       "      <td>1</td>\n",
       "      <td>0</td>\n",
       "      <td>0</td>\n",
       "      <td>0</td>\n",
       "      <td>1</td>\n",
       "      <td>1</td>\n",
       "      <td>1</td>\n",
       "      <td>1</td>\n",
       "      <td>1</td>\n",
       "      <td>1</td>\n",
       "    </tr>\n",
       "    <tr>\n",
       "      <th>11793</th>\n",
       "      <td>3</td>\n",
       "      <td>1</td>\n",
       "      <td>5.00</td>\n",
       "      <td>4.17</td>\n",
       "      <td>150.0</td>\n",
       "      <td>0</td>\n",
       "      <td>0</td>\n",
       "      <td>0</td>\n",
       "      <td>0</td>\n",
       "      <td>0</td>\n",
       "      <td>...</td>\n",
       "      <td>1</td>\n",
       "      <td>0</td>\n",
       "      <td>0</td>\n",
       "      <td>0</td>\n",
       "      <td>1</td>\n",
       "      <td>1</td>\n",
       "      <td>1</td>\n",
       "      <td>1</td>\n",
       "      <td>1</td>\n",
       "      <td>1</td>\n",
       "    </tr>\n",
       "    <tr>\n",
       "      <th>11794</th>\n",
       "      <td>8</td>\n",
       "      <td>2</td>\n",
       "      <td>3.00</td>\n",
       "      <td>5.00</td>\n",
       "      <td>150.0</td>\n",
       "      <td>0</td>\n",
       "      <td>0</td>\n",
       "      <td>0</td>\n",
       "      <td>0</td>\n",
       "      <td>0</td>\n",
       "      <td>...</td>\n",
       "      <td>1</td>\n",
       "      <td>0</td>\n",
       "      <td>0</td>\n",
       "      <td>0</td>\n",
       "      <td>1</td>\n",
       "      <td>1</td>\n",
       "      <td>1</td>\n",
       "      <td>0</td>\n",
       "      <td>1</td>\n",
       "      <td>1</td>\n",
       "    </tr>\n",
       "    <tr>\n",
       "      <th>11795</th>\n",
       "      <td>2</td>\n",
       "      <td>1</td>\n",
       "      <td>5.00</td>\n",
       "      <td>5.00</td>\n",
       "      <td>50.0</td>\n",
       "      <td>0</td>\n",
       "      <td>0</td>\n",
       "      <td>0</td>\n",
       "      <td>0</td>\n",
       "      <td>0</td>\n",
       "      <td>...</td>\n",
       "      <td>1</td>\n",
       "      <td>0</td>\n",
       "      <td>0</td>\n",
       "      <td>0</td>\n",
       "      <td>1</td>\n",
       "      <td>1</td>\n",
       "      <td>1</td>\n",
       "      <td>0</td>\n",
       "      <td>1</td>\n",
       "      <td>0</td>\n",
       "    </tr>\n",
       "    <tr>\n",
       "      <th>11796</th>\n",
       "      <td>9</td>\n",
       "      <td>1</td>\n",
       "      <td>4.44</td>\n",
       "      <td>4.67</td>\n",
       "      <td>15.0</td>\n",
       "      <td>0</td>\n",
       "      <td>0</td>\n",
       "      <td>0</td>\n",
       "      <td>0</td>\n",
       "      <td>0</td>\n",
       "      <td>...</td>\n",
       "      <td>0</td>\n",
       "      <td>0</td>\n",
       "      <td>0</td>\n",
       "      <td>1</td>\n",
       "      <td>0</td>\n",
       "      <td>1</td>\n",
       "      <td>1</td>\n",
       "      <td>0</td>\n",
       "      <td>0</td>\n",
       "      <td>0</td>\n",
       "    </tr>\n",
       "  </tbody>\n",
       "</table>\n",
       "<p>11795 rows × 42 columns</p>\n",
       "</div>"
      ],
      "text/plain": [
       "       accommodates  bedrooms  review_clean  review_location  price  \\\n",
       "0                 3         1          4.93             4.71  110.0   \n",
       "1                 5         1          4.65             4.75   69.0   \n",
       "2                 6         2          4.88             4.59  145.0   \n",
       "3                 2         1          4.55             4.89  100.0   \n",
       "4                 3         1          4.51             4.86   68.0   \n",
       "...             ...       ...           ...              ...    ...   \n",
       "11792             5         2          4.83             4.81  170.0   \n",
       "11793             3         1          5.00             4.17  150.0   \n",
       "11794             8         2          3.00             5.00  150.0   \n",
       "11795             2         1          5.00             5.00   50.0   \n",
       "11796             9         1          4.44             4.67   15.0   \n",
       "\n",
       "       neighbourhood_Alsergrund  neighbourhood_Brigittenau  \\\n",
       "0                             0                          0   \n",
       "1                             0                          0   \n",
       "2                             0                          0   \n",
       "3                             0                          0   \n",
       "4                             0                          0   \n",
       "...                         ...                        ...   \n",
       "11792                         0                          0   \n",
       "11793                         0                          0   \n",
       "11794                         0                          0   \n",
       "11795                         0                          0   \n",
       "11796                         0                          0   \n",
       "\n",
       "       neighbourhood_Dobling  neighbourhood_Donaustadt  \\\n",
       "0                          0                         1   \n",
       "1                          0                         0   \n",
       "2                          0                         0   \n",
       "3                          0                         0   \n",
       "4                          0                         0   \n",
       "...                      ...                       ...   \n",
       "11792                      0                         1   \n",
       "11793                      0                         0   \n",
       "11794                      0                         0   \n",
       "11795                      0                         0   \n",
       "11796                      0                         0   \n",
       "\n",
       "       neighbourhood_Favoriten  ...  Entire_home/apt  Hotel_room  \\\n",
       "0                            0  ...                0           1   \n",
       "1                            0  ...                1           0   \n",
       "2                            0  ...                1           0   \n",
       "3                            0  ...                1           0   \n",
       "4                            0  ...                1           0   \n",
       "...                        ...  ...              ...         ...   \n",
       "11792                        0  ...                1           0   \n",
       "11793                        0  ...                1           0   \n",
       "11794                        0  ...                1           0   \n",
       "11795                        0  ...                1           0   \n",
       "11796                        0  ...                0           0   \n",
       "\n",
       "       Private_room  Shared_room  Parking  Wifi  Kitchen  Iron  Heating  Dryer  \n",
       "0                 0            0        1     1        0     0        1      1  \n",
       "1                 0            0        0     1        1     1        1      1  \n",
       "2                 0            0        1     1        1     1        1      1  \n",
       "3                 0            0        1     1        1     1        1      1  \n",
       "4                 0            0        0     1        1     1        1      1  \n",
       "...             ...          ...      ...   ...      ...   ...      ...    ...  \n",
       "11792             0            0        1     1        1     1        1      1  \n",
       "11793             0            0        1     1        1     1        1      1  \n",
       "11794             0            0        1     1        1     0        1      1  \n",
       "11795             0            0        1     1        1     0        1      0  \n",
       "11796             0            1        0     1        1     0        0      0  \n",
       "\n",
       "[11795 rows x 42 columns]"
      ]
     },
     "execution_count": 48,
     "metadata": {},
     "output_type": "execute_result"
    }
   ],
   "source": [
    "df_vienna_price"
   ]
  },
  {
   "cell_type": "code",
   "execution_count": 49,
   "id": "285970e6",
   "metadata": {},
   "outputs": [
    {
     "data": {
      "text/plain": [
       "<AxesSubplot:xlabel='price', ylabel='review_location'>"
      ]
     },
     "execution_count": 49,
     "metadata": {},
     "output_type": "execute_result"
    },
    {
     "data": {
      "image/png": "[encoded data removed]",
      "text/plain": [
       "<Figure size 432x288 with 1 Axes>"
      ]
     },
     "metadata": {
      "needs_background": "light"
     },
     "output_type": "display_data"
    }
   ],
   "source": [
    "df_vienna_price.plot.scatter(x ='price', y='review_location')"
   ]
  },
  {
   "cell_type": "code",
   "execution_count": 50,
   "id": "c6092d7a",
   "metadata": {},
   "outputs": [],
   "source": [
    "def review_location_outliers(noisy_data):\n",
    " \n",
    "\n",
    "    cleaned_data = noisy_data.copy()\n",
    "   \n",
    "    sortedPrice = noisy_data.sort_values(['review_location'])\n",
    "    sortedPrice = sortedPrice.loc[noisy_data['review_location']>=2]\n",
    " \n",
    "    \n",
    "    \n",
    "    cleaned_data.loc[noisy_data['review_location']<2 ,'review_location'] = noisy_data.loc[noisy_data['review_location']<2,'review_location'].apply(lambda x: np.random.choice(sortedPrice['review_location'].values, 1)[0])\n",
    "    \n",
    "    return cleaned_data"
   ]
  },
  {
   "cell_type": "code",
   "execution_count": 51,
   "id": "b28e6a6a",
   "metadata": {},
   "outputs": [],
   "source": [
    "df_vienna_price = review_location_outliers(df_vienna_price)"
   ]
  },
  {
   "cell_type": "code",
   "execution_count": 52,
   "id": "2cb6885e",
   "metadata": {},
   "outputs": [
    {
     "data": {
      "text/plain": [
       "<AxesSubplot:xlabel='price', ylabel='review_location'>"
      ]
     },
     "execution_count": 52,
     "metadata": {},
     "output_type": "execute_result"
    },
    {
     "data": {
      "image/png": "[encoded data removed]",
      "text/plain": [
       "<Figure size 432x288 with 1 Axes>"
      ]
     },
     "metadata": {
      "needs_background": "light"
     },
     "output_type": "display_data"
    }
   ],
   "source": [
    "df_vienna_price.plot.scatter(x ='price', y='review_location')"
   ]
  },
  {
   "cell_type": "code",
   "execution_count": 53,
   "id": "69ab71f3",
   "metadata": {},
   "outputs": [
    {
     "data": {
      "text/plain": [
       "<AxesSubplot:xlabel='price', ylabel='bedrooms'>"
      ]
     },
     "execution_count": 53,
     "metadata": {},
     "output_type": "execute_result"
    },
    {
     "data": {
      "image/png": "[encoded data removed]",
      "text/plain": [
       "<Figure size 432x288 with 1 Axes>"
      ]
     },
     "metadata": {
      "needs_background": "light"
     },
     "output_type": "display_data"
    }
   ],
   "source": [
    "df_vienna_price.plot.scatter(x ='price', y='bedrooms')"
   ]
  },
  {
   "cell_type": "code",
   "execution_count": 54,
   "id": "d5bf5f02",
   "metadata": {},
   "outputs": [],
   "source": [
    "def bedrooms_outliers(noisy_data):\n",
    " \n",
    "\n",
    "    cleaned_data = noisy_data.copy()\n",
    "   \n",
    "    sortedPrice = noisy_data.sort_values(['bedrooms'])\n",
    "    sortedPrice = sortedPrice.loc[noisy_data['bedrooms']<=7.5]\n",
    " \n",
    "    \n",
    "    \n",
    "    cleaned_data.loc[noisy_data['bedrooms']>7.5 ,'bedrooms'] = noisy_data.loc[noisy_data['bedrooms']>7.5,'bedrooms'].apply(lambda x: np.random.choice(sortedPrice['bedrooms'].values, 1)[0])\n",
    "    \n",
    "    return cleaned_data"
   ]
  },
  {
   "cell_type": "code",
   "execution_count": 55,
   "id": "1c721541",
   "metadata": {},
   "outputs": [],
   "source": [
    "df_vienna_price = bedrooms_outliers(df_vienna_price)"
   ]
  },
  {
   "cell_type": "code",
   "execution_count": 56,
   "id": "4cb7eeea",
   "metadata": {},
   "outputs": [
    {
     "data": {
      "text/plain": [
       "<AxesSubplot:xlabel='price', ylabel='bedrooms'>"
      ]
     },
     "execution_count": 56,
     "metadata": {},
     "output_type": "execute_result"
    },
    {
     "data": {
      "image/png": "[encoded data removed]",
      "text/plain": [
       "<Figure size 432x288 with 1 Axes>"
      ]
     },
     "metadata": {
      "needs_background": "light"
     },
     "output_type": "display_data"
    }
   ],
   "source": [
    "df_vienna_price.plot.scatter(x ='price', y='bedrooms')"
   ]
  },
  {
   "cell_type": "code",
   "execution_count": 57,
   "id": "ac180c0a",
   "metadata": {},
   "outputs": [
    {
     "data": {
      "text/plain": [
       "<AxesSubplot:xlabel='price', ylabel='bathroom_number'>"
      ]
     },
     "execution_count": 57,
     "metadata": {},
     "output_type": "execute_result"
    },
    {
     "data": {
      "image/png": "[encoded data removed]",
      "text/plain": [
       "<Figure size 432x288 with 1 Axes>"
      ]
     },
     "metadata": {
      "needs_background": "light"
     },
     "output_type": "display_data"
    }
   ],
   "source": [
    "df_vienna_price.plot.scatter(x ='price', y='bathroom_number')"
   ]
  },
  {
   "cell_type": "code",
   "execution_count": 58,
   "id": "ebb9c328",
   "metadata": {},
   "outputs": [],
   "source": [
    "def bathroom_outliers(noisy_data):\n",
    " \n",
    "\n",
    "    cleaned_data = noisy_data.copy()\n",
    "   \n",
    "    sortedPrice = noisy_data.sort_values(['bathroom_number'])\n",
    "    sortedPrice = sortedPrice.loc[noisy_data['bathroom_number']<=5]\n",
    " \n",
    "    \n",
    "    \n",
    "    cleaned_data.loc[noisy_data['bathroom_number']>5 ,'bathroom_number'] = noisy_data.loc[noisy_data['bathroom_number']>5,'bathroom_number'].apply(lambda x: np.random.choice(sortedPrice['bathroom_number'].values, 1)[0])\n",
    "    \n",
    "    return cleaned_data"
   ]
  },
  {
   "cell_type": "code",
   "execution_count": 59,
   "id": "479be585",
   "metadata": {},
   "outputs": [],
   "source": [
    "df_vienna_price = bathroom_outliers(df_vienna_price)"
   ]
  },
  {
   "cell_type": "code",
   "execution_count": 60,
   "id": "dff53537",
   "metadata": {},
   "outputs": [
    {
     "data": {
      "text/plain": [
       "<AxesSubplot:xlabel='price', ylabel='bathroom_number'>"
      ]
     },
     "execution_count": 60,
     "metadata": {},
     "output_type": "execute_result"
    },
    {
     "data": {
      "image/png": "[encoded data removed]",
      "text/plain": [
       "<Figure size 432x288 with 1 Axes>"
      ]
     },
     "metadata": {
      "needs_background": "light"
     },
     "output_type": "display_data"
    }
   ],
   "source": [
    "df_vienna_price.plot.scatter(x ='price', y='bathroom_number')"
   ]
  },
  {
   "cell_type": "code",
   "execution_count": 61,
   "id": "d05bad3e",
   "metadata": {},
   "outputs": [
    {
     "data": {
      "text/plain": [
       "<AxesSubplot:ylabel='Frequency'>"
      ]
     },
     "execution_count": 61,
     "metadata": {},
     "output_type": "execute_result"
    },
    {
     "data": {
      "image/png": "[encoded data removed]",
      "text/plain": [
       "<Figure size 432x288 with 1 Axes>"
      ]
     },
     "metadata": {
      "needs_background": "light"
     },
     "output_type": "display_data"
    }
   ],
   "source": [
    "df_vienna_price['price'].plot.hist(x = 'price', bins = 60)"
   ]
  },
  {
   "cell_type": "code",
   "execution_count": 62,
   "id": "fcb6e485",
   "metadata": {},
   "outputs": [],
   "source": [
    "df_vienna_corr = df_vienna_price[['accommodates', 'bedrooms', 'review_clean',\n",
    "       'review_location', 'price', 'bathroom_number',]]"
   ]
  },
  {
   "cell_type": "code",
   "execution_count": 63,
   "id": "a17ee196",
   "metadata": {},
   "outputs": [
    {
     "data": {
      "text/html": [
       "<div>\n",
       "<style scoped>\n",
       "    .dataframe tbody tr th:only-of-type {\n",
       "        vertical-align: middle;\n",
       "    }\n",
       "\n",
       "    .dataframe tbody tr th {\n",
       "        vertical-align: top;\n",
       "    }\n",
       "\n",
       "    .dataframe thead th {\n",
       "        text-align: right;\n",
       "    }\n",
       "</style>\n",
       "<table border=\"1\" class=\"dataframe\">\n",
       "  <thead>\n",
       "    <tr style=\"text-align: right;\">\n",
       "      <th></th>\n",
       "      <th>accommodates</th>\n",
       "      <th>bedrooms</th>\n",
       "      <th>review_clean</th>\n",
       "      <th>review_location</th>\n",
       "      <th>price</th>\n",
       "      <th>bathroom_number</th>\n",
       "    </tr>\n",
       "  </thead>\n",
       "  <tbody>\n",
       "    <tr>\n",
       "      <th>0</th>\n",
       "      <td>3</td>\n",
       "      <td>1</td>\n",
       "      <td>4.93</td>\n",
       "      <td>4.71</td>\n",
       "      <td>110.0</td>\n",
       "      <td>1.0</td>\n",
       "    </tr>\n",
       "    <tr>\n",
       "      <th>1</th>\n",
       "      <td>5</td>\n",
       "      <td>1</td>\n",
       "      <td>4.65</td>\n",
       "      <td>4.75</td>\n",
       "      <td>69.0</td>\n",
       "      <td>1.0</td>\n",
       "    </tr>\n",
       "    <tr>\n",
       "      <th>2</th>\n",
       "      <td>6</td>\n",
       "      <td>2</td>\n",
       "      <td>4.88</td>\n",
       "      <td>4.59</td>\n",
       "      <td>145.0</td>\n",
       "      <td>1.0</td>\n",
       "    </tr>\n",
       "    <tr>\n",
       "      <th>3</th>\n",
       "      <td>2</td>\n",
       "      <td>1</td>\n",
       "      <td>4.55</td>\n",
       "      <td>4.89</td>\n",
       "      <td>100.0</td>\n",
       "      <td>1.0</td>\n",
       "    </tr>\n",
       "    <tr>\n",
       "      <th>4</th>\n",
       "      <td>3</td>\n",
       "      <td>1</td>\n",
       "      <td>4.51</td>\n",
       "      <td>4.86</td>\n",
       "      <td>68.0</td>\n",
       "      <td>1.0</td>\n",
       "    </tr>\n",
       "    <tr>\n",
       "      <th>...</th>\n",
       "      <td>...</td>\n",
       "      <td>...</td>\n",
       "      <td>...</td>\n",
       "      <td>...</td>\n",
       "      <td>...</td>\n",
       "      <td>...</td>\n",
       "    </tr>\n",
       "    <tr>\n",
       "      <th>11792</th>\n",
       "      <td>5</td>\n",
       "      <td>2</td>\n",
       "      <td>4.83</td>\n",
       "      <td>4.81</td>\n",
       "      <td>170.0</td>\n",
       "      <td>2.0</td>\n",
       "    </tr>\n",
       "    <tr>\n",
       "      <th>11793</th>\n",
       "      <td>3</td>\n",
       "      <td>1</td>\n",
       "      <td>5.00</td>\n",
       "      <td>4.17</td>\n",
       "      <td>150.0</td>\n",
       "      <td>1.0</td>\n",
       "    </tr>\n",
       "    <tr>\n",
       "      <th>11794</th>\n",
       "      <td>8</td>\n",
       "      <td>2</td>\n",
       "      <td>3.00</td>\n",
       "      <td>5.00</td>\n",
       "      <td>150.0</td>\n",
       "      <td>1.0</td>\n",
       "    </tr>\n",
       "    <tr>\n",
       "      <th>11795</th>\n",
       "      <td>2</td>\n",
       "      <td>1</td>\n",
       "      <td>5.00</td>\n",
       "      <td>5.00</td>\n",
       "      <td>50.0</td>\n",
       "      <td>1.0</td>\n",
       "    </tr>\n",
       "    <tr>\n",
       "      <th>11796</th>\n",
       "      <td>9</td>\n",
       "      <td>1</td>\n",
       "      <td>4.44</td>\n",
       "      <td>4.67</td>\n",
       "      <td>15.0</td>\n",
       "      <td>3.5</td>\n",
       "    </tr>\n",
       "  </tbody>\n",
       "</table>\n",
       "<p>11795 rows × 6 columns</p>\n",
       "</div>"
      ],
      "text/plain": [
       "       accommodates  bedrooms  review_clean  review_location  price  \\\n",
       "0                 3         1          4.93             4.71  110.0   \n",
       "1                 5         1          4.65             4.75   69.0   \n",
       "2                 6         2          4.88             4.59  145.0   \n",
       "3                 2         1          4.55             4.89  100.0   \n",
       "4                 3         1          4.51             4.86   68.0   \n",
       "...             ...       ...           ...              ...    ...   \n",
       "11792             5         2          4.83             4.81  170.0   \n",
       "11793             3         1          5.00             4.17  150.0   \n",
       "11794             8         2          3.00             5.00  150.0   \n",
       "11795             2         1          5.00             5.00   50.0   \n",
       "11796             9         1          4.44             4.67   15.0   \n",
       "\n",
       "       bathroom_number  \n",
       "0                  1.0  \n",
       "1                  1.0  \n",
       "2                  1.0  \n",
       "3                  1.0  \n",
       "4                  1.0  \n",
       "...                ...  \n",
       "11792              2.0  \n",
       "11793              1.0  \n",
       "11794              1.0  \n",
       "11795              1.0  \n",
       "11796              3.5  \n",
       "\n",
       "[11795 rows x 6 columns]"
      ]
     },
     "execution_count": 63,
     "metadata": {},
     "output_type": "execute_result"
    }
   ],
   "source": [
    "df_vienna_corr"
   ]
  },
  {
   "cell_type": "code",
   "execution_count": 64,
   "id": "eecd7af6",
   "metadata": {},
   "outputs": [
    {
     "data": {
      "image/png": "[encoded data removed]",
      "text/plain": [
       "<Figure size 432x288 with 2 Axes>"
      ]
     },
     "metadata": {},
     "output_type": "display_data"
    }
   ],
   "source": [
    "correlation = df_vienna_corr.corr(method='pearson')\n",
    "columns = correlation.nlargest(9, 'price').index\n",
    "correlation_map = np.corrcoef(df_vienna_corr.values.T)\n",
    "sns.set(font_scale=0.5)\n",
    "heatmap = sns.heatmap(correlation_map, cbar=True, annot=True, yticklabels=df_vienna_corr.columns.values, xticklabels=df_vienna_corr.columns.values)"
   ]
  },
  {
   "cell_type": "code",
   "execution_count": 65,
   "id": "b0c51888",
   "metadata": {},
   "outputs": [],
   "source": [
    "df_vienna_price.to_csv(\"df_price.csv\")"
   ]
  },
  {
   "cell_type": "markdown",
   "id": "d97d5fc0",
   "metadata": {},
   "source": [
    "## Correlation Matric\n",
    "\n",
    "One correlation is between bedrooms and accomodates and it makes sense because you have to get enough beds and space for the accommodates you want to have in your airbnb\n",
    "\n",
    "Price is mostly correlated with accommodates and now we have the information that price is mostly put by the number \n",
    "\n",
    "of people an airbnb can have.Price is also correlated with bedrooms .\n",
    "\n",
    "The suprise here is that Price does not correlate with review_location or review_clean, which we had a feeling it would.\n",
    "\n",
    "We can say that based on review for location given by guests, location does not affect the price for an AirBnB."
   ]
  },
  {
   "cell_type": "code",
   "execution_count": 66,
   "id": "2c063a19",
   "metadata": {},
   "outputs": [],
   "source": [
    "df_vienna_price.shape\n",
    "df_vienna_price_hidden = df_vienna_price.iloc[:2359, :]\n",
    "\n",
    "df_vienna_price_develop = df_vienna_price.iloc[2359:,:]"
   ]
  },
  {
   "cell_type": "code",
   "execution_count": 67,
   "id": "3d213afe",
   "metadata": {},
   "outputs": [],
   "source": [
    "from sklearn import model_selection\n",
    "X = df_vienna_price_develop.drop(columns='price')\n",
    "Y = df_vienna_price_develop['price']\n",
    "X_train = None\n",
    "X_valid = None\n",
    "y_train = None\n",
    "y_valid = None\n",
    "   \n",
    "X_train, X_valid, y_train, y_valid = sklearn.model_selection.train_test_split(X,Y, \n",
    "    test_size=0.2, random_state= 42)\n",
    "\n"
   ]
  },
  {
   "cell_type": "markdown",
   "id": "c2196eec",
   "metadata": {},
   "source": [
    "## Making Prediction\n",
    "\n",
    "We used Grid Search with 5 splits to find best parameters and then we tested machine learning models to estimate which one can do a better prediction.\n",
    "\n",
    "Regression models that we used are : ElasticNet,Lasso,RandomForestRegreesor, KNeighboursRegressor, XGBRegressor, LinearRegression.\n",
    "To estimate these models we used r2 score and mean absolute error\n",
    "We also used Scalers to try reaching a better prediction and these scalers are : StandardScaler,MinMaxScaler,RobustScaler"
   ]
  },
  {
   "cell_type": "code",
   "execution_count": 68,
   "id": "bd8c05cc",
   "metadata": {},
   "outputs": [],
   "source": [
    "from sklearn.linear_model import ElasticNet\n",
    "from sklearn.datasets import make_regression\n",
    "from sklearn.metrics import r2_score,mean_absolute_error\n",
    "from sklearn import linear_model\n",
    "from sklearn.ensemble import RandomForestRegressor\n",
    "from sklearn.svm import SVR\n",
    "from sklearn.neighbors import KNeighborsRegressor\n",
    "from sklearn.preprocessing import StandardScaler,MinMaxScaler,RobustScaler\n",
    "from sklearn.feature_selection import VarianceThreshold\n",
    "from sklearn.linear_model import Lasso\n",
    "from sklearn.pipeline import make_pipeline, Pipeline"
   ]
  },
  {
   "cell_type": "code",
   "execution_count": 69,
   "id": "7c4e76bb",
   "metadata": {},
   "outputs": [],
   "source": [
    "from sklearn.neighbors import KNeighborsClassifier\n",
    "from sklearn.tree import DecisionTreeClassifier\n",
    "from sklearn.svm import SVC\n",
    "\n",
    "\n",
    "regressor = {\"KNN\": KNeighborsRegressor(),\n",
    "            \"RFG\": RandomForestRegressor(),\n",
    "            \"Lso\": Lasso()\n",
    "              }\n",
    "\n",
    "\n",
    "knn_param = { \"n_neighbors\": [2, 3, 5,10,15],\n",
    "             \"p\": [1, 2], \n",
    "            \"weights\":[\"uniform\", \"distance\"],\n",
    "            \"algorithm\" : ['auto', 'ball_tree', 'kd_tree', 'brute'],\n",
    "            \"metric\" : ['l1','l2','‘manhattan','euclidean']\n",
    "             \n",
    "            }\n",
    "\n",
    "rgf_param = {\"n_estimators\" : [60],\n",
    "            \"max_depth\": [4, 5, 6, 7, 8],\n",
    "             \"criterion\" : [\"squared_error\", \"absolute_error\"],\n",
    "             \"warm_start\" : [True]\n",
    "            }\n",
    "\n",
    "lasso_param = {'alpha': [1.0],\n",
    "            \"selection\": [\"cyclic\", \"random\"],\n",
    "            \"copy_X\" : [True],\n",
    "            \"fit_intercept\" : [True]\n",
    "\n",
    "            \n",
    "            \n",
    "            }\n",
    "\n",
    "params = [knn_param, rgf_param, lasso_param]\n",
    "\n",
    "from sklearn.model_selection import GridSearchCV\n",
    "from sklearn.model_selection import StratifiedKFold\n",
    "\n",
    "\n"
   ]
  },
  {
   "cell_type": "code",
   "execution_count": 70,
   "id": "2691d748",
   "metadata": {},
   "outputs": [],
   "source": [
    "def train_models(regressor, params, train_data, train_classes):\n",
    "    \"\"\"\"\n",
    "    Does a GridSearchCV in different classifiers, returns the best \n",
    "    performing parameters per classifier and other metrics as result.\n",
    "    \"\"\"\n",
    "    best_regression_scores = {}\n",
    "    regressor_results = {}\n",
    "    \n",
    "    for idx, regression in enumerate(regressor.values()):\n",
    "        \n",
    "        \n",
    "        clf = GridSearchCV(regression, params[idx], scoring=[\"r2\"], cv=StratifiedKFold(n_splits=5),\n",
    "                           verbose=4, refit=\"r2\")\n",
    "        clf.fit(train_data, train_classes)\n",
    "        \n",
    "        best_regression_scores.update({list(regressor.keys())[idx]: [clf.best_params_, clf.best_estimator_, clf.best_score_]})\n",
    "        regressor_results.update({list(regressor.keys())[idx]: clf.cv_results_})\n",
    "\n",
    "    return best_regression_scores, regressor_results"
   ]
  },
  {
   "cell_type": "code",
   "execution_count": 71,
   "id": "3947a896",
   "metadata": {},
   "outputs": [],
   "source": [
    "\n",
    "#regression_score, results = train_models(regressor,params,X_train,y_train)"
   ]
  },
  {
   "cell_type": "markdown",
   "id": "39483d0b",
   "metadata": {},
   "source": [
    "{'KNN': [{'algorithm': 'kd_tree',\n",
    "   'metric': 'l1',\n",
    "   'n_neighbors': 15,\n",
    "   'p': 1,\n",
    "   'weights': 'distance'},\n",
    "  KNeighborsRegressor(algorithm='kd_tree', metric='l1', n_neighbors=15, p=1,\n",
    "                      weights='distance'),\n",
    "  0.32766907753796853],\n",
    " 'RFG': [{'criterion': 'absolute_error',\n",
    "   'max_depth': 8,\n",
    "   'n_estimators': 60,\n",
    "   'warm_start': True},\n",
    "  RandomForestRegressor(criterion='absolute_error', max_depth=8, n_estimators=60,\n",
    "                        warm_start=True),\n",
    "  0.328969958646976],\n",
    " 'Lso': [{'alpha': 1.0,\n",
    "   'copy_X': True,\n",
    "   'fit_intercept': True,\n",
    "   'selection': 'cyclic'},\n",
    "  Lasso(),\n",
    "  0.27291931567533395]}"
   ]
  },
  {
   "cell_type": "code",
   "execution_count": 72,
   "id": "de793d5a",
   "metadata": {},
   "outputs": [
    {
     "name": "stdout",
     "output_type": "stream",
     "text": [
      "------------- Elastic Net r2 score --------------->  0.335248155315084\n",
      "------------- Elastic Net mae--------------->  34.79194551118486\n"
     ]
    }
   ],
   "source": [
    "X_train_scaled_e = StandardScaler().fit_transform(X_train)\n",
    "X_valid_scaled_e = StandardScaler().fit_transform(X_valid)\n",
    "model = ElasticNet(random_state = 0)\n",
    "model.fit(X_train_scaled_e,y_train)\n",
    "y_pred = model.predict(X_valid_scaled_e)\n",
    "print(f\"------------- Elastic Net r2 score --------------->  {r2_score(y_valid,y_pred)}\")\n",
    "print(f\"------------- Elastic Net mae--------------->  {mean_absolute_error(y_valid,y_pred)}\")"
   ]
  },
  {
   "cell_type": "code",
   "execution_count": 73,
   "id": "7727ce72",
   "metadata": {},
   "outputs": [
    {
     "name": "stdout",
     "output_type": "stream",
     "text": [
      "------------- Lasso r2 score --------------->  0.3331342696366577\n",
      "------------- Lasso mae--------------->  35.432686167182524\n"
     ]
    }
   ],
   "source": [
    "X_train_scaled_l = RobustScaler().fit_transform(X_train)\n",
    "X_valid_scaled_l = RobustScaler().fit_transform(X_valid)\n",
    "model = linear_model.Lasso(alpha=1.0,copy_X =  True,\n",
    "   fit_intercept = True, selection = \"cyclic\")\n",
    "model.fit(X_train_scaled_l,y_train)\n",
    "y_pred = model.predict(X_valid_scaled_l)\n",
    "print(f\"------------- Lasso r2 score --------------->  {r2_score(y_valid,y_pred)}\")\n",
    "print(f\"------------- Lasso mae--------------->  {mean_absolute_error(y_valid,y_pred)}\")"
   ]
  },
  {
   "cell_type": "code",
   "execution_count": 74,
   "id": "d0926a8b",
   "metadata": {},
   "outputs": [
    {
     "name": "stdout",
     "output_type": "stream",
     "text": [
      "------------- RandomForesstRegressor r2score --------------->  0.43411713070223346\n",
      "------------- RandomForesstRegressor mae--------------->  30.907379943502825\n"
     ]
    }
   ],
   "source": [
    "X_train_scaled_rfg = StandardScaler().fit_transform(X_train)\n",
    "X_valid_scaled_rfg = StandardScaler().fit_transform(X_valid)\n",
    "model =  RandomForestRegressor(criterion='absolute_error', max_depth=8, n_estimators=60,\n",
    "                        warm_start=True)\n",
    "model.fit(X_train_scaled_rfg,y_train)\n",
    "y_pred = model.predict(X_valid_scaled_rfg)\n",
    "print(f\"------------- RandomForesstRegressor r2score --------------->  {r2_score(y_valid,y_pred)}\")\n",
    "print(f\"------------- RandomForesstRegressor mae--------------->  {mean_absolute_error(y_valid,y_pred)}\")\n"
   ]
  },
  {
   "cell_type": "code",
   "execution_count": 75,
   "id": "92382481",
   "metadata": {},
   "outputs": [
    {
     "name": "stdout",
     "output_type": "stream",
     "text": [
      "-------------  KNeighborsRegressor score --------------->  0.4796831717035994\n",
      "------------- KNeighborsRegressor mae--------------->  31.559943707574394\n"
     ]
    }
   ],
   "source": [
    "X_train_scaled_knn = StandardScaler().fit_transform(X_train)\n",
    "X_valid_scaled_knn = StandardScaler().fit_transform(X_valid)\n",
    "model = KNeighborsRegressor(algorithm='auto', metric='l1', n_neighbors=15,weights='distance', p = 1)\n",
    "model.fit(X_train_scaled_knn,y_train)\n",
    "y_pred = model.predict(X_valid_scaled_knn)\n",
    "print(f\"-------------  KNeighborsRegressor score --------------->  {r2_score(y_valid,y_pred)}\")\n",
    "print(f\"------------- KNeighborsRegressor mae--------------->  {mean_absolute_error(y_valid,y_pred)}\")\n",
    "\n"
   ]
  },
  {
   "cell_type": "code",
   "execution_count": 76,
   "id": "da278efc",
   "metadata": {},
   "outputs": [
    {
     "name": "stdout",
     "output_type": "stream",
     "text": [
      "[22:29:41] WARNING: /Users/runner/work/xgboost/xgboost/python-package/build/temp.macosx-10.9-x86_64-cpython-38/xgboost/src/objective/regression_obj.cu:213: reg:linear is now deprecated in favor of reg:squarederror.\n",
      "-------------  XGBoost score --------------->  0.4796831717035994\n",
      "------------- XGBoost mae--------------->  31.559943707574394\n"
     ]
    }
   ],
   "source": [
    "import xgboost as xgb\n",
    "X_train_scaled_xgb = StandardScaler().fit_transform(X_train)\n",
    "X_valid_scaled_xgb = StandardScaler().fit_transform(X_valid)\n",
    "\n",
    "xgb_model = xgb.XGBRegressor(objective=\"reg:linear\", random_state=42)\n",
    "\n",
    "xgb_model.fit(X_train_scaled_xgb,y_train)\n",
    "y_pred_xgb = xgb_model.predict(X_valid_scaled_xgb)\n",
    "print(f\"-------------  XGBoost score --------------->  {r2_score(y_valid,y_pred)}\")\n",
    "print(f\"------------- XGBoost mae--------------->  {mean_absolute_error(y_valid,y_pred)}\")\n"
   ]
  },
  {
   "cell_type": "markdown",
   "id": "40b2f9dc",
   "metadata": {},
   "source": [
    "We can see that the model with the best result was KNeighborsRegressor and XGboost. Now we continue with KNeighboursRegressor with r2 score = 0.4796831717035994\n"
   ]
  },
  {
   "cell_type": "code",
   "execution_count": 77,
   "id": "af5bef10",
   "metadata": {
    "scrolled": true
   },
   "outputs": [
    {
     "name": "stdout",
     "output_type": "stream",
     "text": [
      "-------------  LinearRegressor score --------------->  0.20158176450681553\n",
      "------------- LinearRegressor mae--------------->  33.02319559620095\n"
     ]
    }
   ],
   "source": [
    "from sklearn.svm import SVR\n",
    "X_train_scaled_linear = StandardScaler().fit_transform(X_train)\n",
    "X_valid_scaled_linear = StandardScaler().fit_transform(X_valid)\n",
    "model = SVR()\n",
    "model.fit(X_train_scaled_linear,y_train)\n",
    "y_pred = model.predict(X_valid_scaled_linear)\n",
    "print(f\"-------------  LinearRegressor score --------------->  {r2_score(y_valid,y_pred)}\")\n",
    "print(f\"------------- LinearRegressor mae--------------->  {mean_absolute_error(y_valid,y_pred)}\")\n",
    "\n",
    "\n",
    "\n"
   ]
  },
  {
   "cell_type": "code",
   "execution_count": 78,
   "id": "f4e04e2d",
   "metadata": {},
   "outputs": [],
   "source": [
    "def train_and_predict(X_train: pd.DataFrame, y_train: pd.Series, \n",
    "                      X_test: pd.DataFrame) -> np.ndarray:\n",
    "   \n",
    "\n",
    "    predictions = None\n",
    "    X_train_scale = StandardScaler().fit_transform(X_train)\n",
    "    X_test_scale = StandardScaler().fit_transform(X_test)\n",
    "    regressor = KNeighborsRegressor(algorithm='auto', metric='l1', n_neighbors=15,weights='distance', p = 1)\n",
    "\n",
    "\n",
    "    train_data = regressor.fit(X_train_scale,y_train)\n",
    "    predictions = train_data.predict(X_test_scale)\n",
    "    \n",
    "    \n",
    "    \n",
    "    return predictions"
   ]
  },
  {
   "cell_type": "code",
   "execution_count": 79,
   "id": "c6ba49b6",
   "metadata": {},
   "outputs": [],
   "source": [
    "X_train = df_vienna_price_develop.copy()\n",
    "y_train = X_train['price']\n",
    "\n",
    "X_test = df_vienna_price_hidden.copy()\n",
    "\n",
    "del X_train['price']\n",
    "del X_test['price']\n",
    "\n",
    "vienna_price_prediction = train_and_predict(X_train, y_train, X_test)"
   ]
  },
  {
   "cell_type": "code",
   "execution_count": 80,
   "id": "b698e458",
   "metadata": {},
   "outputs": [
    {
     "name": "stderr",
     "output_type": "stream",
     "text": [
      "*c* argument looks like a single numeric RGB or RGBA sequence, which should be avoided as value-mapping will have precedence in case its length matches with *x* & *y*.  Please use the *color* keyword-argument or provide a 2D array with a single row if you intend to specify the same RGB or RGBA value for all points.\n"
     ]
    },
    {
     "data": {
      "image/png": "[encoded data removed]",
      "text/plain": [
       "<Figure size 432x288 with 1 Axes>"
      ]
     },
     "execution_count": 80,
     "metadata": {},
     "output_type": "execute_result"
    },
    {
     "data": {
      "image/png": "[encoded data removed]",
      "text/plain": [
       "<Figure size 432x288 with 1 Axes>"
      ]
     },
     "metadata": {},
     "output_type": "display_data"
    }
   ],
   "source": [
    "vienna_price = vienna_price_prediction.copy()\n",
    "df_vienna_price_hidden = df_vienna_price_hidden.assign(price_prediction =vienna_price)\n",
    "df_vienna_price_hidden.plot.scatter(x = 'price', y = 'price_prediction', rot=90).get_figure()\n",
    "#ax = plt.title(\"Comparing ground truth with predictions\")\n",
    "#ax = plt.xlabel(\"Week\")\n",
    "#ax = plt.ylabel(\"Weekly Infections Values\")"
   ]
  },
  {
   "cell_type": "code",
   "execution_count": 81,
   "id": "7915b717",
   "metadata": {},
   "outputs": [
    {
     "data": {
      "image/png": "[encoded data removed]",
      "text/plain": [
       "<Figure size 720x720 with 1 Axes>"
      ]
     },
     "metadata": {},
     "output_type": "display_data"
    }
   ],
   "source": [
    "plt.figure(figsize=(10,10))\n",
    "plt.scatter(df_vienna_price_hidden['price'],vienna_price_prediction, c='crimson')\n",
    "plt.yscale('log')\n",
    "plt.xscale('log')\n",
    "\n",
    "p1 = max(max(vienna_price_prediction), max(df_vienna_price_hidden['price']))\n",
    "p2 = min(min(vienna_price_prediction), min(df_vienna_price_hidden['price']))\n",
    "plt.plot([p1, p2], [p1, p2], 'b-')\n",
    "plt.xlabel('True Values', fontsize=15)\n",
    "plt.ylabel('Predictions', fontsize=15)\n",
    "plt.axis('equal')\n",
    "plt.show()"
   ]
  },
  {
   "cell_type": "markdown",
   "id": "bf552766",
   "metadata": {},
   "source": []
  }
 ],
 "metadata": {
  "kernelspec": {
   "display_name": "Python 3 (ipykernel)",
   "language": "python",
   "name": "python3"
  },
  "language_info": {
   "codemirror_mode": {
    "name": "ipython",
    "version": 3
   },
   "file_extension": ".py",
   "mimetype": "text/x-python",
   "name": "python",
   "nbconvert_exporter": "python",
   "pygments_lexer": "ipython3",
   "version": "3.9.12"
  }
 },
 "nbformat": 4,
 "nbformat_minor": 5
}
